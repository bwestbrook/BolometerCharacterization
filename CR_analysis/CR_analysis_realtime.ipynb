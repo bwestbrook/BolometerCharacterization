{
 "cells": [
  {
   "cell_type": "code",
   "execution_count": null,
   "id": "6df1f60e-5f67-4af0-9b7c-37229bede6eb",
   "metadata": {},
   "outputs": [],
   "source": [
    "import matplotlib\n",
    "matplotlib.use('TkAgg')\n",
    "import pylab as pl\n",
    "#from DFT import *\n",
    "import numpy as np\n",
    "import numpy.polynomial.polynomial as poly\n",
    "from scipy import signal\n",
    "from scipy import optimize\n",
    "from scipy import math\n",
    "from scipy.fftpack import rfft, irfft, fftfreq, ifft, fft\n",
    "from scipy.signal import argrelextrema\n",
    "from scipy.signal import find_peaks_cwt\n",
    "from scipy.optimize import curve_fit\n",
    "import scipy.integrate as integrate\n",
    "import matplotlib.colors as colors\n",
    "import matplotlib.ticker as ticker\n",
    "import shutil\n",
    "import statistics\n",
    "from statistics import median_low\n",
    "from matplotlib import cm\n",
    "from matplotlib import mlab\n",
    "from math import exp, expm1\n",
    "import sys\n",
    "import bisect\n",
    "import os\n",
    "import gc\n",
    "import pickle\n",
    "\n",
    "\n",
    "################################################################################\n",
    "\n",
    "\n",
    "V2uA_SQ1 = 25.2 #define SQUID calibrations in uA/V\n",
    "V2uA_SQ2 = 25.2\n",
    "V2uA_SQ3 = 30.0\n",
    "V2uA_SQ4 = 30.0\n",
    "V2uA_SQ5 = 25.9\n",
    "V2uA_SQ6 = 25.2\n",
    "\n",
    "xaxes = []\n",
    "ymeansubs = []\n",
    "timeconsts = []\n",
    "energyhists = []\n",
    "rates = []\n",
    "allphases = []\n",
    "maxvalsxs = []\n",
    "maxvalsys = []\n",
    "\n",
    "\n",
    "################################################################################\n",
    "\n",
    "\n",
    "\n",
    "\n",
    "\n"
   ]
  }
 ],
 "metadata": {
  "kernelspec": {
   "display_name": "Python 3",
   "language": "python",
   "name": "python3"
  },
  "language_info": {
   "codemirror_mode": {
    "name": "ipython",
    "version": 3
   },
   "file_extension": ".py",
   "mimetype": "text/x-python",
   "name": "python",
   "nbconvert_exporter": "python",
   "pygments_lexer": "ipython3",
   "version": "3.8.2"
  }
 },
 "nbformat": 4,
 "nbformat_minor": 5
}
